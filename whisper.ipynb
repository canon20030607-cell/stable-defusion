{
  "nbformat": 4,
  "nbformat_minor": 0,
  "metadata": {
    "colab": {
      "provenance": [],
      "gpuType": "T4",
      "authorship_tag": "ABX9TyM6HdN3okY7LbBayAi5Mo8P",
      "include_colab_link": true
    },
    "kernelspec": {
      "name": "python3",
      "display_name": "Python 3"
    },
    "language_info": {
      "name": "python"
    },
    "accelerator": "GPU"
  },
  "cells": [
    {
      "cell_type": "markdown",
      "metadata": {
        "id": "view-in-github",
        "colab_type": "text"
      },
      "source": [
        "<a href=\"https://colab.research.google.com/github/canon20030607-cell/stable-defusion/blob/main/whisper.ipynb\" target=\"_parent\"><img src=\"https://colab.research.google.com/assets/colab-badge.svg\" alt=\"Open In Colab\"/></a>"
      ]
    },
    {
      "cell_type": "code",
      "source": [
        "!pip install git+https://github.com/openai/whisper.git"
      ],
      "metadata": {
        "colab": {
          "base_uri": "https://localhost:8080/"
        },
        "id": "bK4GsDDFn8FG",
        "outputId": "f29c6ef9-dc86-4b34-8759-97b8c2b31872"
      },
      "execution_count": 1,
      "outputs": [
        {
          "output_type": "stream",
          "name": "stdout",
          "text": [
            "Collecting git+https://github.com/openai/whisper.git\n",
            "  Cloning https://github.com/openai/whisper.git to /tmp/pip-req-build-4sclpjoq\n",
            "  Running command git clone --filter=blob:none --quiet https://github.com/openai/whisper.git /tmp/pip-req-build-4sclpjoq\n",
            "  Resolved https://github.com/openai/whisper.git to commit c0d2f624c09dc18e709e37c2ad90c039a4eb72a2\n",
            "  Installing build dependencies ... \u001b[?25l\u001b[?25hdone\n",
            "  Getting requirements to build wheel ... \u001b[?25l\u001b[?25hdone\n",
            "  Preparing metadata (pyproject.toml) ... \u001b[?25l\u001b[?25hdone\n",
            "Requirement already satisfied: more-itertools in /usr/local/lib/python3.12/dist-packages (from openai-whisper==20250625) (10.7.0)\n",
            "Requirement already satisfied: numba in /usr/local/lib/python3.12/dist-packages (from openai-whisper==20250625) (0.60.0)\n",
            "Requirement already satisfied: numpy in /usr/local/lib/python3.12/dist-packages (from openai-whisper==20250625) (2.0.2)\n",
            "Requirement already satisfied: tiktoken in /usr/local/lib/python3.12/dist-packages (from openai-whisper==20250625) (0.11.0)\n",
            "Requirement already satisfied: torch in /usr/local/lib/python3.12/dist-packages (from openai-whisper==20250625) (2.8.0+cu126)\n",
            "Requirement already satisfied: tqdm in /usr/local/lib/python3.12/dist-packages (from openai-whisper==20250625) (4.67.1)\n",
            "Requirement already satisfied: triton>=2 in /usr/local/lib/python3.12/dist-packages (from openai-whisper==20250625) (3.4.0)\n",
            "Requirement already satisfied: setuptools>=40.8.0 in /usr/local/lib/python3.12/dist-packages (from triton>=2->openai-whisper==20250625) (75.2.0)\n",
            "Requirement already satisfied: llvmlite<0.44,>=0.43.0dev0 in /usr/local/lib/python3.12/dist-packages (from numba->openai-whisper==20250625) (0.43.0)\n",
            "Requirement already satisfied: regex>=2022.1.18 in /usr/local/lib/python3.12/dist-packages (from tiktoken->openai-whisper==20250625) (2024.11.6)\n",
            "Requirement already satisfied: requests>=2.26.0 in /usr/local/lib/python3.12/dist-packages (from tiktoken->openai-whisper==20250625) (2.32.4)\n",
            "Requirement already satisfied: filelock in /usr/local/lib/python3.12/dist-packages (from torch->openai-whisper==20250625) (3.19.1)\n",
            "Requirement already satisfied: typing-extensions>=4.10.0 in /usr/local/lib/python3.12/dist-packages (from torch->openai-whisper==20250625) (4.15.0)\n",
            "Requirement already satisfied: sympy>=1.13.3 in /usr/local/lib/python3.12/dist-packages (from torch->openai-whisper==20250625) (1.13.3)\n",
            "Requirement already satisfied: networkx in /usr/local/lib/python3.12/dist-packages (from torch->openai-whisper==20250625) (3.5)\n",
            "Requirement already satisfied: jinja2 in /usr/local/lib/python3.12/dist-packages (from torch->openai-whisper==20250625) (3.1.6)\n",
            "Requirement already satisfied: fsspec in /usr/local/lib/python3.12/dist-packages (from torch->openai-whisper==20250625) (2025.3.0)\n",
            "Requirement already satisfied: nvidia-cuda-nvrtc-cu12==12.6.77 in /usr/local/lib/python3.12/dist-packages (from torch->openai-whisper==20250625) (12.6.77)\n",
            "Requirement already satisfied: nvidia-cuda-runtime-cu12==12.6.77 in /usr/local/lib/python3.12/dist-packages (from torch->openai-whisper==20250625) (12.6.77)\n",
            "Requirement already satisfied: nvidia-cuda-cupti-cu12==12.6.80 in /usr/local/lib/python3.12/dist-packages (from torch->openai-whisper==20250625) (12.6.80)\n",
            "Requirement already satisfied: nvidia-cudnn-cu12==9.10.2.21 in /usr/local/lib/python3.12/dist-packages (from torch->openai-whisper==20250625) (9.10.2.21)\n",
            "Requirement already satisfied: nvidia-cublas-cu12==12.6.4.1 in /usr/local/lib/python3.12/dist-packages (from torch->openai-whisper==20250625) (12.6.4.1)\n",
            "Requirement already satisfied: nvidia-cufft-cu12==11.3.0.4 in /usr/local/lib/python3.12/dist-packages (from torch->openai-whisper==20250625) (11.3.0.4)\n",
            "Requirement already satisfied: nvidia-curand-cu12==10.3.7.77 in /usr/local/lib/python3.12/dist-packages (from torch->openai-whisper==20250625) (10.3.7.77)\n",
            "Requirement already satisfied: nvidia-cusolver-cu12==11.7.1.2 in /usr/local/lib/python3.12/dist-packages (from torch->openai-whisper==20250625) (11.7.1.2)\n",
            "Requirement already satisfied: nvidia-cusparse-cu12==12.5.4.2 in /usr/local/lib/python3.12/dist-packages (from torch->openai-whisper==20250625) (12.5.4.2)\n",
            "Requirement already satisfied: nvidia-cusparselt-cu12==0.7.1 in /usr/local/lib/python3.12/dist-packages (from torch->openai-whisper==20250625) (0.7.1)\n",
            "Requirement already satisfied: nvidia-nccl-cu12==2.27.3 in /usr/local/lib/python3.12/dist-packages (from torch->openai-whisper==20250625) (2.27.3)\n",
            "Requirement already satisfied: nvidia-nvtx-cu12==12.6.77 in /usr/local/lib/python3.12/dist-packages (from torch->openai-whisper==20250625) (12.6.77)\n",
            "Requirement already satisfied: nvidia-nvjitlink-cu12==12.6.85 in /usr/local/lib/python3.12/dist-packages (from torch->openai-whisper==20250625) (12.6.85)\n",
            "Requirement already satisfied: nvidia-cufile-cu12==1.11.1.6 in /usr/local/lib/python3.12/dist-packages (from torch->openai-whisper==20250625) (1.11.1.6)\n",
            "Requirement already satisfied: charset_normalizer<4,>=2 in /usr/local/lib/python3.12/dist-packages (from requests>=2.26.0->tiktoken->openai-whisper==20250625) (3.4.3)\n",
            "Requirement already satisfied: idna<4,>=2.5 in /usr/local/lib/python3.12/dist-packages (from requests>=2.26.0->tiktoken->openai-whisper==20250625) (3.10)\n",
            "Requirement already satisfied: urllib3<3,>=1.21.1 in /usr/local/lib/python3.12/dist-packages (from requests>=2.26.0->tiktoken->openai-whisper==20250625) (2.5.0)\n",
            "Requirement already satisfied: certifi>=2017.4.17 in /usr/local/lib/python3.12/dist-packages (from requests>=2.26.0->tiktoken->openai-whisper==20250625) (2025.8.3)\n",
            "Requirement already satisfied: mpmath<1.4,>=1.1.0 in /usr/local/lib/python3.12/dist-packages (from sympy>=1.13.3->torch->openai-whisper==20250625) (1.3.0)\n",
            "Requirement already satisfied: MarkupSafe>=2.0 in /usr/local/lib/python3.12/dist-packages (from jinja2->torch->openai-whisper==20250625) (3.0.2)\n",
            "Building wheels for collected packages: openai-whisper\n",
            "  Building wheel for openai-whisper (pyproject.toml) ... \u001b[?25l\u001b[?25hdone\n",
            "  Created wheel for openai-whisper: filename=openai_whisper-20250625-py3-none-any.whl size=803979 sha256=ecddabec6c296f82f35b166805f832b3b510bfa8374200a1fd4b45b2a0fdfac0\n",
            "  Stored in directory: /tmp/pip-ephem-wheel-cache-400n3x_b/wheels/c3/03/25/5e0ba78bc27a3a089f137c9f1d92fdfce16d06996c071a016c\n",
            "Successfully built openai-whisper\n",
            "Installing collected packages: openai-whisper\n",
            "Successfully installed openai-whisper-20250625\n"
          ]
        }
      ]
    },
    {
      "cell_type": "code",
      "source": [
        "import whisper"
      ],
      "metadata": {
        "id": "0ym29l1S8ByE"
      },
      "execution_count": 2,
      "outputs": []
    },
    {
      "cell_type": "code",
      "execution_count": 4,
      "metadata": {
        "id": "diPDpoEhXNO6",
        "colab": {
          "base_uri": "https://localhost:8080/"
        },
        "outputId": "43ce8d0d-d74a-4404-814f-47eb4bc21f06"
      },
      "outputs": [
        {
          "output_type": "stream",
          "name": "stdout",
          "text": [
            "Drive already mounted at /content/drive; to attempt to forcibly remount, call drive.mount(\"/content/drive\", force_remount=True).\n"
          ]
        },
        {
          "output_type": "stream",
          "name": "stderr",
          "text": [
            "/usr/local/lib/python3.12/dist-packages/whisper/__init__.py:69: UserWarning: /root/.cache/whisper/large-v3.pt exists, but the SHA256 checksum does not match; re-downloading the file\n",
            "  warnings.warn(\n",
            "100%|█████████████████████████████████████| 2.88G/2.88G [01:54<00:00, 26.9MiB/s]\n"
          ]
        },
        {
          "output_type": "stream",
          "name": "stdout",
          "text": [
            "入れた時はでそれをあっていっ 5点厳重重症重量現象だからそれでも悪いんだな コーテンていっていな5.99だからそれがこのスタート始めるときには 4.8になっちゃってるからだからもっと大きいのね。 それで実際最後測り終わった時が終了パーセンテージだね。実際の値はどこだ?0.何?最終的な重量はいくつ?なぜ これが新地からありそう者は自分80分から80分1時間半かこれは水含んだ厳重率はそうです厳重だから 間違えたら厳重率じゃないなこれはたんだろう測ってるやつだから分母違うと思う分母がこれは500でもうやれば500 500じゃないんだよなけどそれそのこの重量はミリリットルであるんですよね。これを減らしちゃうと500gだよ。 500gっていうのは真値はどこかってここに書いてあったよ。ちょっと待って。計算は36.03%だから元々始めたのが4.803×36.03÷1001.7336.03になったってことは逆だ0.2なので30%じゃあこれをずっと引っ張って3時間行けばそのもんか36.03だと64にしようか100分の644.803×64÷1004.803×64÷100 3.073この分析してくれた人が心配になって本当始めたのは3.5時間でいっちゃってんだよ薄べったいやつあ、いいのか残体投入あまり意味ないからいやー違った間違えちゃった最後の重量から考えればいいのかやっぱり4.803×これひっくり返したらいいなひっくり返すあ、これ6時間やってるわダメだこれだ2の3だな36.03÷1001.731.73ねこれでやればいいんだこれ何が違うんだ?2の3ともともとが5.99と そこから1.7これが減った量だな 5.99×100これいくつだ?5.99-1.73÷5.99×-71.1よく高くしてるかこれは滑ったくしてるねそうすると同じ時間でもやっぱり95.1これが滑ったいんだよそれでももうちょっと行きそうかな3.3時間時間は?18分180分か80分か少ないなぁそうかもしれないおばせの時聞いた時にそんなに長さはないからそうだね80分って考えるときに元々このオペレーターさんが心配になって途中から始めちゃったらしいんですけど本当に最初にこのるつぼに乗せたのは5.99mg乗せたって言ってただからちょっと待ってる間に要するに1.1mgもうちょっと上がったんだねそこから分解とかまで水とかでそれでやっと加熱始めてこうやっていくとここまでいったのでだからフレッシュな状態でやればもうちょっと電池でいってたのと電池含めこれを飲ませていったらたらそれをするかもしれないそうそうだこだこれをフォローできたらできるかもしれ んそれねー これが今年の結果さはいこれを振る背中から時間は全然違うね3.5時間だったりするからね だいたいほら90 まあ酸素入れ方もあるけど酸素を入れてない でちょっと熱い熱いやつだったんですけどね熱い奴だってこのぐらい行っちゃってるわけです。薄べったいだと。薄べったい奴はこのぐらい行っちゃっただけ3.5時間で。で、これが80分だから3.5時間というと、この3倍ぐらいかな。そうするとまあまあ、いたかよったかねって。思われる。 じゃあフォローする実験にはなってるかもしれないですね。厳重率という意味だけでね。でも厳重率だけミニチュア試験でも合ってるじゃんって言ったって何も嬉しくない。 新しいことはありないね。経時的なことがね、わかることがね、なんかあるかもしれない。メカニズム的にはね。何に使うかなんだ。このぐらいで水が抜けるねとかね、言ったことがわかるわけだよね。そういう位置をね。ここで水が抜けたねってわかるわけだよね。それが実機の運転でここに使えばいいとかここまでを水が抜けるまで早くやる水が早く抜けちゃうようにしようとかそうすると処理時間が短くなるねとか言ったことに使えるといいよね今思いつき言っただけだよ何も考えてないあとはあまりプラスな話じゃないんですけどもしねこの形にそのコバルト酸化コバルトっていう形に他の人が言ってるような形になるんだとするとオペレーションで嬉しくないんだけどオフガス系に塩化水素が来ちゃうそうするとそこのフィルターのバグフィルターとかそっち側で塩化水素を水を通してトラップするような仕組みを作ると配管がやられちゃうその辺のノウハウがある会社じゃないとこの仕事をこういう条件にしていてもできないだけどそういう塩化水素の対策をしていればうちの会社の制限は大丈夫ですだからこの次の展開はこれを測ったり発生したガスが次のステップを測ることになるのでそうすると本当に塩化性素が発生するならコバルトから比べたら全然大した話じゃないのかもしれないんだけど配管の長期オペレーションを考えるとこのガス分析の一辺にできる方法というのはメカニズムの解明と実際の現場の運営に役立つかもしれないそれはいいねガスが測れるのはいいねあと本当におっしゃる通り必要なところってここだけだから、ここまでの温度の上げ方の工夫っていうのが、ここから何か見えるかもしれないですね。ガスが吐かれると、コバルトがそこのガスに含まれているんだろうって。コバルトは多分すぐ、わかんないですね。ちょっと聞いてみますけど、コバルトはもしかしたらすぐに配管にそこに行く前に壁にくっついちゃうかもしれなくて。じゃあこの実験実験けどねシェイムたんばんばん飛ぶんですけど 配管つまらしちゃったりするかもしれなくてそれちょっとやってみないと配管も超高級な1000万ぐらいするこの分析装置だと配管もね数百度でちゃんと 温めてくれるんですけどこれ安い装置だとね、2、300℃ぐらいしか温めてないんだよね。だから配管に壁にペタペタついちゃって、ガス分析装置までたどり着かないんだよね。そこは、うちの大学が安いのを使ってるかに関わってきちゃうんですね。廃ガス系にコバルトがないと言ったって、来てないのかもしれないよね。検出器までたどり着かない。検出器までたどり着かない。それは楽しくないね。セシウムの方もその可能性は 理学さんの装置でセシウム気にしてないじゃあコバルトの方ねセシウムそれにくっついたって 飛んだって分かりゃしないんだからいいよだから本当に多分おっしゃる通り これのコバルトだけつけた実験をこっちとか そうですねあとはこのポカス法の実験をやるのが大学だからこそシンプルな実験でいいかもしれない。そのパラメーターというかね、先ほど言ったように、アニオンじゃない、カチオン・ニオンでやってみようとか、混ぜたらどうなるかという3パターンだということですね。そうそう、そうなりますよね。段階的に。それはいいね。それと今言ったガス分析ね。はい。いいね、いい。って言ったのをやれればお金の範囲だけどな一切待ってるってことですね違う、そんでね、ズルの方向を考えたんだよ共同研究じゃない、自宅研究自宅研究?そういう技があると?あるあるある、あるんだけど全然違う話でちょっとご相談するとえっとえっとそちらが無理だと無理なんですけど えっとここだけ話して寄付金してくれるとめちゃめちゃお金使うしからなくキピハードルがものだ 決してはなかったなんで寄付するまあそうなんだ本当は実際はこれやるんだけど だからね今あっちのねえ木倉先生とやってる方も共同研究という言葉が良くないから 共同これが会社でねだめなんだよ 住宅ってそのこっちは委託だよねこっちは厳しくなるんだよな いいですよ 発注みたいなもんだからこっちにしてみてで結果だけちょうだいっていう こんだけの結果出してね まあ実験の過程で今までと一緒なんだけどねやること一緒なんだけどで今のそのコバルトがどう振る舞うかをもう一回やってみようぜこの洗うのはちょっと 宿題と残権としてやってもらうわけじゃないけど残ってるやつのやつはね。本当にそのアニオン、カチオン混ぜた、いったものを全量吸着さして全量処理して 全量測るというのをやってもらうといいねそれとさっきの もうちょっと実験実験あり実験も なるほどっていうところはもうちょっと考えて 今簡単に言えるのはコバルトが残ったねっていう実験を3パターンやりましょう3パターンでも6パターンでもいいんだけどさ サンプルが増やせるものは増やしてやっと信用性が上がるからそれが簡単にできるんだね そんな大変じゃなければそれとだから俺そのさ吸着させたその初期の処理する前の樹脂 の吸着こんだけしたよねっていうのを正しく測る方法があればいい それは大丈夫それはそんなに大変じゃないんですよそれは液体分析なんですけど、それは基本的には液体側で見て確かめるんですけど、それは楽なんですけど。それはね、いまだに分かってないわけ。溶液の中にグルグル混ぜてね、炉心にジャーっと開けてね、なんかすると言ってんだけど、その時にどっかばらつくじゃんとか思うんだけどさ。そのでも基本的には 答えそれだから今やってるのはねこんだけの濃度のものを樹脂にグルグル混ぜてジャーッと やった時にその液体の側に今度に行きました飛山すると樹脂がにこれだけついたはずですあそそそそれはそのはずがよくあるやり方 はずだって言ってるのがただね小学生の足は一番やってるわけなんだけどほんと帰ってロシについてんじゃないかのとね 定着試験って大体そうやってみんなやるねそれがだけどその個体分析がで貸せる感あるんだよね、それもね。はい、すいません。自宅支給みたいのだって、だいぶ歯が下がる。嘘っすか?発注してるだけだって、言いはじめ。あー、すいません。何か言われたら。決定の一番。なくすの。発注だって言うだけ。そのような設計してもらうとか何度も発注するじゃない。それを共同権者、受託権給契約者に判行するとかでいいじゃない。でいいだろうって言われる。決済者は誰もいないから、決済権限規定はないから。普通の発注代。いくら万円以上の発注は、あるじゃない。その決済権限はあるじゃない。1000万円を超える発注は、事業部長とか、500万なら部長とか、プチデッキだったらもちろんあるよな。それだ!それがたった50万円の発注なんです。部長でもいるから。ズルする。ディスクトリプションメイドテクニックとワンページとか、BIコードで発注って言い方で、その後のテクニックは一緒だったりするんですか?全員が住宅研究申込書に50万円と書いて、契約書に書いてくれます。きっと住宅研究契約書は、共同研究契約書よりはるかに厳しいものが飛んでくるんですよ。自宅だから。ノウハウを全部あそこで飲んだとかさ。それはノウハウが出る話じゃないですけど、実験上のノウハウはいくら解けたことがあるかも。答えは、別に言った答えが出てくるだけでしょ。どんだけ残ってました。俺たちはそれしか必要にしていないからね。という理屈だよ。住宅研究だと大学が厳しくなれて高さがされて難しいってことであれば置いてしまいます住宅研究できっと契約自体はきっと俺たちにとって厳しい契約なんだよね住宅だからその実際問題はね東高大がノウハウは全部取るぞみたいなね本当はそうだし共同じゃないからお金の使い方とかも結構細かくなるんですよねでもあれですよね、何かどういう風に使いましたかみたいのって、社内の住宅研究の場合うるさくかったりしますと、電票その後全部レシートをよこせってあります。じゃあ買わないですね、こっちとしては。だからあとは、その特許だけだ、知財だけだよ、面倒くさいのが。知財はもう、これは知財もヘッタクレもないじゃない。ヘッタクレもないですね、これはね。実験方法はどんどん知財にしてもらってもいいけどね。そうですね。答えはコバルトが残った、何%残ったという答えだけだから、ノウハウもヘッダクラもない。それを使って、俺たちはPRする。そうですね。そのPR自体は問題ないでしょ。権利自体は一律考えたものではないので。課題と実験してもらって、これだけ残ったという方法で。だからこれはフィールドテストと同じです。そうですね。大型試験とそれで。大型って言っても構わないもんねでも太平洋コンサル今年はうまい成功出してきたんですよさすがですねそれがどこまでコンサルカードが去年問題にしたからさお前増えたんじゃねえかコバレットどのくらい残ったんですか?ちなみに90%くらいです素晴らしいもともと処理前が1070mgパーキログラムなんですよね酸素と窒素でそれぞれ1030と1000ぐらい残ってます。酸素の方が多少残ったっていう。それはゴミの範囲だと思うけどね。バラつきの範囲だと思う。セシウムの方が?セシウムやってないです。去年やったから。コバルトだけですね。じゃあ大成功かもしれない。それを疑ってるわけもないわ分かりましただって初年度150%に増えちゃったって言ってるのがね仮にさ70%残りましたって言ったとするじゃないそしたらそのまんま受け取ったよねきっと70残ったってだけど150っていう結果が出たからおかしいって言い始めたんだよねそうですね70の結果が出たらおかしいって言わないよね気がつかない気がつかないよねで70なの?なんで90じゃないの?って議論するぐらいな 関根山でさだけど150ってのは出てくれたもんだから なんかおかしいんじゃないかサンプリングじゃないか でこのるつぼに落ち着いたんだよで太陽コンサルさんにもそのレスボのやつで ああもうじゃあ結構今回はあれですねだからダブルチェックだったんですか? ちょっと間違えちゃったちょっとそこまで頼むよかったなぁ。まあまあちょっとサンプル残ってるはずなので、ちょっと足し合わせていきます。それはだから、今年、今年度の分の、先年度の分の宿題としてやってもらって、今年は今言ったようなものを、まあ50万円しかないんだけど、それで、これがメインで、あとさっき言ったその焼き方の話ね、そのガス分析の話ね。ガス分析の話はもう1回議論しましょうねって言ってる。どんなことをするかっていう。こっちはもう決まりきりちゃんの話だからね。 どうやってその正確ですって証明するかだけ気を使ってもらって 吸着樹脂の吸着量とあとの分析した時の分析結果がこんだけ正しいですっていう 焼くのはだって焼きゃいいんだから全量焼きゃいいんだけどな話だから どうってことないよね そこは何も細工にしようがない吸着前と 処理後の分析いやもうこれのメインでどこからどのだけ正しいか こうやり方したからもう誤差は1%以内ですとかね 言えると一番いいまあその辺はちょっと考えてもらってまあとにかくね有給物が入ってくるとね 分析が邪魔するんですよねすごいこれら出てるんでだからいいんじゃないそれはシンプルコボルトさえ残ってくれれば あとあとはもうホット試験やるしかないよだってどんなのがさ実機はどんなね成分が入ってるかわかんないだろういろんなさ 塩素注入してないか水素注入だとかさ亜鉛注入だとかさ色んなことやってるじゃない原子炉の中に そんなものがどう影響しているかなんてわかんないそんな樹脂だもんね 早ったもんね水素注入とかあえん注入とかプラット クラウド防止のためにそんなことが混ぜ込んでなって樹脂が溜まってるだけだから 実況やってみなきゃまた樹脂も変わりますでしょうか いやそれは一緒一緒に使っているんですか? 何種類もあって、重水樹脂がこれだっていうだけで他の路上掛けとかなんかは違うかもしれないけどまあいいんじゃないかな とりあえずこれはこれで1回ちょっと納めさせていただいてまだ終わってないとはいえ、1回とりすくぎりで渡さないと終わらないので、1回ちょっと受け取っていただいて終わりましたってことで宿題として残ってる部分はちゃんとメモしていて、次年度のところに入れて、そっちに入れて。今年の3月まで、いつまで?どうしましょう?3月まで。だから早急に受託研究の申込書。だからまず申し込み書をちょっと作ってもらって 通りに飛ばしてもらってで返すから産学連携に出してもらってだから木倉先生のところのやつも最初共同研究申込書でやって産学連携で契約書まで作った 段階でちょっと待ってって言ったから産学連携凝ったんだ菊名先生が眺めてくれたもう1回やり直し50万はE&Cで費用?どっちでもいいんだよそれ書いたんだよ50万ポッチだから上がってもいいよってその代わりあのあっちの中和の追加試験とか全部そっちでやったねってことですねえっとすでに2025年のさかのぼりできるのでネットそうすると僕たちお金すぐ使える んで研究開始は9月経営を受けたたぶんずるずるずるまた長くなっちゃうんで これで8おいくら25年に26に自由の動画が合いあったらやってる僕ら合格50万円もらいました。それしかいない。はい、まあいただけるだけでありがたいです。はい。それは前に言った話の通り。はい。大学に研究を委託するんで、あんだけハードルが高いんじゃもうたまんないよ。バカじゃないかと思った。俺やめるぞって言ったもん。こんなつまんないことで 仕事をね会社に来てこんなつまんないことやるんだったらもういい給料いらない 俺やめるぞ今日 坂本さん?坂本石山今辞めちゃ困る 石山さんだったら犯行成功してくれるんですか?その受託権益っていうのはうんうんそういう結託したからねはい、じゃあわかりました。これで学内に進めていくので、高瀬さんのハンコとそのグループ長官なんかに頂いてってなかですね。だから、あの、木倉県でその自宅研究の共同研究も。でももう1回やってるからね。あ、そうそう。その石山ってやつにして書いてくれればいい。うん、わかりました。事業部長石山ってやつで、そのなんかあるよね。その申込書の中に。担当は俺でいいんで、もちろん。うん。はい、わかりました。まあそうだね、前ね、あっちで、ブラスのやつで作ってくれたもんね。まあだから同じ、ただ自宅研究になるだけね。 そうそうそうそう。使い方めんどくさいんだ。何が自宅研究だって。 そうなんです。何がめんどくさいんだろう。共同研究一緒やん。 やっぱりね、自宅研究だと完全にその、受けてるから、色々細かくやろうとしちゃうのよね。大学はん 自分はやってからそのうるさく言う自宅研究そこでもらったんだなぁソンさんさんが いるんだろうねお金払ったんだからちゃんとやれよ 色々あんなコードにたの要求が多いからこっちもちゃんとしなきゃいけないなとの 元気って結構ゆるいんですけどがチームプリピリするのねでも考えんね なんか言わないじゃん一緒にやろうねちゃんと実験の中身はちゃんと合意してやろうねって言ってるだけわかりました 答えは一つだ決まってるもんじゃあちょっとあれだね、だから今回は吸着からってことになるかそれは提案したんだよ、そう言ったからそれいいって言って社外でもそう宣伝しちゃったからね今度は全量吸着 全量のものを処理して全量測る私はどこにも行きようがないだろう なら50万円を補正そこでまたサンプリングされたらもうないけどもう一つなんだよねだから あれなぁ多分ででも全量入れても分配費とかそういうのがあって 薄いノードだったら全量定着できるかもしれないけど基本液体側から測るんでなるべくいっぱい入れてやっぱ調査のたしが生き残りあるやっぱり しかしがしれそう力でたくさん入れて俺が上がるというのはその子たロールじゃろし ろしにどんだけついたかがわかると嬉しいが交差線放射能パンキャッツの ppp 測れるからねそうそう放射なかったね 廊下のしあとそこだけだよねロジだけだよねロスするとすればそうそう そうそれロシもその樹脂に吸着したものとしてカウントし合うねよくある話だよね ボトルにくっついちゃったとかね4章は感度に一つに転んだな 多いと間違えちゃうんだよねもともと通じた量で分析した時 分析して出てきた後処理した後出てきたのは新知だろこっちが露子に行った分もあると減っちゃうか減りますか?減っちゃうかだから減り分が誤差になって出てきちゃうんだね露子についた分がいかにも飛んでったったようになっちゃうのかそれはよろしくないねしょうがないねでもだから露子なるべくなるべくって言ったってしょうがないよねコーヒーと一緒なんだからそうねコーヒーだってつくもんねつくわねしょうがないよねそれはだからなるべくいっぱいやったらいいんだもう満パンにと誤差が薄まるんだねろしにつく分が薄まるんだね確かにこういう方がいいかもしれないだからどちゃっとつけてこれ以上もう食えないぞっていうぐらい自信が完璧しくれよっていうぐらいごくせりいいななんでもなんでもやってうん、ほんま吸着ってやつだな。何度も何度もやるわけにはいかないんだけど、ぐるぐる回るだけか。ジュース作るみたいな。まあまあ、そうです。ガシャガシャ振ったりとか、攪拌してるって感じですね。スターラーとか入れちゃうとまたくっついちゃう。その量を、なるべく最初の濃度を多くしてこうやってやる。そうです、そうです。ガシャガシャってやつですね。それだと思います。液体が測って、まあ固体に全部ついてるでしょうと。あと洗浄するかですね表面洗浄して 洗浄って書いてあるんだよななんで洗浄して何なん?その時に樹脂に吸着したやつ抜けないの?って心配なんだよ洗っちゃったらさ 水で洗ってないですね今回はコバルトスに洗いました。太平洋コンセメントも凄いなぁ。今回のレツボです。焼き上がった後だろ?焼き上がった前ってことですか?前。今議論してるのは前。ん 年前洗っちゃったらさ水水と一緒に 猫バルトが水道版してそれもあっちゃんを人が何もある でもこっちもそれも洗ったやつもはからなきゃいけないんだね 本当さんもちろん洗うっていうのは正しいのかもしれないけど余計な分を同伴しないように太平洋セメントさんのもし今回測った測り方の報告書みたいに出せるものがあったら共有ください今回100%以内に収まったっていうから多分うまい方法やったんだろうなあんっすらね、方法について多少ノウハウを漏らす前としてね、わからなく書いてあったりする。この間どうしたの?とかね。 洗うのは何で洗ったの?とかね。違うか、作った時か。作った時のやつかな。それあるよね。あげなかったっけ?作った時のやつは、昔のね。 今回のね、90%残ったやつね。マジ分析?もう十分じゃないですか?90って答えが必要なんじゃないんだからね確かかどうかだからねダブルチェックだからまあただ無い設備もあるので、うちの大学には50万円のできる範囲で、プラス間接経費いつもでもまあ助かるね50万円には消費税は入ってないもう外数ちょっとで50万円丸々使えると。 あと大学の中の話ね。ピンハネされちゃうと。 そうなんだよ。すごいピンハネするよね。そうなんですよ。30%も取ってくるんですよ。 めちゃくちゃ取るんだよ。30%も、その三角連携の人何やってんの? 契約書でだから揉めることやるじゃないですか。揉める仕事やってくれる。 揉めてもさ、全然直そうとしないんだよ、三角連携。分かんないからね、結局ね。 多分。 というかね、だったら、いらないよって感じだよ。前はブラストの時も揉めたんで一番最初こっちのフォーム部分はさ、いろんなこと書くじゃない。こうやると、いやこうこうこうだからダメ、それはこうこうこうだからダメ、それはこうこうこうだからダメだからそれは、中にはあれだったんだけどね、知財の部分だったんだけどね。うん、そう、そこです、いつも思えるのがそこですだからもう特許出さないね、出すのよそっとビジネスなんかね、やらないのにね、よく要求するようなって感じだったの。いい意味わかんないですよね、コントイッチの。ということで、じゃあちょっと宿題もあるので、とりあえず自宅研究の契約書のドラフトを送りますので、できれば、さかのぼりで9月から始められるように9月ぐらいですね。9月1日にして、申し込みしよう。そう、9月1日にして、なりますので。契約書はもうちょっとまた、ずるずるいくと。契約書はね、科学連携と戦いだね。そう、そう。決まるのは多分1ヶ月後なんで、それ、すごい時間かかっちゃうから、僕たちいつまでもお金使えなくなっちゃうから。だから、あの、今日のこれ、これはなるべく早く欲しい。そうですね。まあ、あの、若手研究者研究討論発表会もあるかもしれないけどそれもですねあれも俺、親ごめんだから僕もでも次の人にもう譲ろうとちょっと僕も始めてますからそれは早いよもう俺なんか何年やったのあれいやーそう、僕学生の時からだからなー高橋さんみたいなすごいことだよなー恐ろしいよなー本当に僕学生の頃から学会で面倒見とかあってそうなんですか恐ろしいよ、今こういう感じになるの。当時思いもよらなんだ。\n"
          ]
        }
      ],
      "source": [
        "from google.colab import drive; drive.mount(\"/content/drive\")\n",
        "AUDIO = \"/content/drive/MyDrive/audio/meeting_fujidenki_20250828_2.m4a\"\n",
        "\n",
        "model = whisper.load_model(\"large\")\n",
        "result = model.transcribe(\n",
        "    AUDIO,\n",
        "    language=\"ja\",\n",
        "    condition_on_previous_text=False\n",
        ")\n",
        "print(result[\"text\"])"
      ]
    },
    {
      "cell_type": "markdown",
      "metadata": {
        "id": "3b80fd18"
      },
      "source": [
        "After the transcription is complete, the following code will save the transcribed text to a `.txt` file in the same directory as your audio file in Google Drive."
      ]
    },
    {
      "cell_type": "code",
      "metadata": {
        "colab": {
          "base_uri": "https://localhost:8080/"
        },
        "id": "7f23365d",
        "outputId": "75d75004-c5f9-450d-a5f0-4cf8f5d2abf8"
      },
      "source": [
        "import os\n",
        "stem = os.path.splitext(AUDIO)[0]\n",
        "with open(stem+\".txt\",\"w\",encoding=\"utf-8\") as f:\n",
        "    f.write(result[\"text\"])\n",
        "\n",
        "def ts(x):\n",
        "    h=int(x//3600); m=int((x%3600)//60); s=x%60\n",
        "    return f\"{h:02d}:{m:02d}:{s:06.3f}\".replace('.',',')\n",
        "with open(stem+\".srt\",\"w\",encoding=\"utf-8\") as f:\n",
        "    for i,seg in enumerate(result[\"segments\"],1):\n",
        "        f.write(f\"{i}\\n{ts(seg['start'])} --> {ts(seg['end'])}\\n{seg['text'].strip()}\\n\\n\")\n",
        "\n",
        "print(\"💾 保存:\", stem+\".txt / \"+stem+\".srt\")"
      ],
      "execution_count": 5,
      "outputs": [
        {
          "output_type": "stream",
          "name": "stdout",
          "text": [
            "💾 保存: /content/drive/MyDrive/audio/meeting_fujidenki_20250828_2.txt / /content/drive/MyDrive/audio/meeting_fujidenki_20250828_2.srt\n"
          ]
        }
      ]
    }
  ]
}